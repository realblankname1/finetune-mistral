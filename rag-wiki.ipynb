{
 "cells": [
  {
   "cell_type": "markdown",
   "metadata": {},
   "source": [
    "# Retrieval Augmented Generation for Wikipedia and LangChain"
   ]
  },
  {
   "cell_type": "code",
   "execution_count": 6,
   "metadata": {},
   "outputs": [],
   "source": [
    "from langchain.retrievers import WikipediaRetriever\n",
    "import dotenv\n",
    "import os\n",
    "from langchain.chains import ConversationalRetrievalChain\n",
    "from langchain_openai import ChatOpenAI"
   ]
  },
  {
   "cell_type": "code",
   "execution_count": 4,
   "metadata": {},
   "outputs": [
    {
     "data": {
      "text/plain": [
       "{'title': 'Scatterometer',\n",
       " 'summary': 'A scatterometer or diffusionmeter is a scientific instrument to measure the return of a beam of light or radar waves scattered by diffusion in a medium such as air. Diffusionmeters using visible light are found in airports or along roads to measure horizontal visibility. Radar scatterometers use radio or microwaves to determine the normalized radar cross section (σ0, \"sigma zero\" or \"sigma naught\") of a surface. They are often mounted on weather satellites to find wind speed and direction, and are used in industries to analyze the roughness of surfaces.',\n",
       " 'source': 'https://en.wikipedia.org/wiki/Scatterometer'}"
      ]
     },
     "execution_count": 4,
     "metadata": {},
     "output_type": "execute_result"
    }
   ],
   "source": [
    "retriever = WikipediaRetriever()\n",
    "\n",
    "# Testing retriever \n",
    "docs = retriever.get_relevant_documents(query=\"ASCAT\")\n",
    "docs[1].metadata"
   ]
  },
  {
   "cell_type": "code",
   "execution_count": 5,
   "metadata": {},
   "outputs": [
    {
     "data": {
      "text/plain": [
       "'A scatterometer or diffusionmeter is a scientific instrument to measure the return of a beam of ligh'"
      ]
     },
     "execution_count": 5,
     "metadata": {},
     "output_type": "execute_result"
    }
   ],
   "source": [
    "docs[1].page_content[:100]"
   ]
  },
  {
   "cell_type": "code",
   "execution_count": 7,
   "metadata": {},
   "outputs": [],
   "source": [
    "os.environ[\"OPENAI_API_KEY\"] = os.getenv(\"OPENAI_API_KEY\")\n",
    "model = ChatOpenAI(model_name=\"gpt-3.5-turbo\")  # switch to 'gpt-4'\n",
    "qa = ConversationalRetrievalChain.from_llm(model, retriever=retriever)"
   ]
  },
  {
   "cell_type": "code",
   "execution_count": 8,
   "metadata": {},
   "outputs": [
    {
     "name": "stdout",
     "output_type": "stream",
     "text": [
      "-> **Question**: What is Apify? \n",
      "\n",
      "**Answer**: Apify is a web scraping and automation platform that allows developers to extract data from websites and automate workflows. It provides tools and resources for building and running web crawlers, processing data, and deploying scrapers at scale. \n",
      "\n",
      "-> **Question**: When the Monument to the Martyrs of the 1830 Revolution was created? \n",
      "\n",
      "**Answer**: I'm sorry, but I don't have any information about the creation of the Monument to the Martyrs of the 1830 Revolution. \n",
      "\n",
      "-> **Question**: What is the Abhayagiri Vihāra? \n",
      "\n",
      "**Answer**: Abhayagiri Vihāra was a major monastery site in Anuradhapura, Sri Lanka. It was one of the most sacred Buddhist pilgrimage cities in the nation and a significant monastic center as well as a royal capital. The term \"Abhayagiri Vihāra\" refers not only to the complex of monastic buildings but also to a fraternity of Buddhist monks. It was founded in the 2nd century BC and grew into an international institution attracting scholars from distant locations. It played a significant role in the development of Theravada, Mahayana, and Vajrayana Buddhism. The complex includes the Abhayagiri Dagaba, an ancient stupa, and was a seat of the Northern Monastery and the original custodian of the Tooth relic in the island. \n",
      "\n"
     ]
    }
   ],
   "source": [
    "questions = [\n",
    "    \"What is Apify?\",\n",
    "    \"When the Monument to the Martyrs of the 1830 Revolution was created?\",\n",
    "    \"What is the Abhayagiri Vihāra?\",\n",
    "    # \"How big is Wikipédia en français?\",\n",
    "]\n",
    "chat_history = []\n",
    "\n",
    "for question in questions:\n",
    "    result = qa({\"question\": question, \"chat_history\": chat_history})\n",
    "    chat_history.append((question, result[\"answer\"]))\n",
    "    print(f\"-> **Question**: {question} \\n\")\n",
    "    print(f\"**Answer**: {result['answer']} \\n\")"
   ]
  },
  {
   "cell_type": "code",
   "execution_count": 9,
   "metadata": {},
   "outputs": [
    {
     "name": "stdout",
     "output_type": "stream",
     "text": [
      "-> **Question**: What is MetOp? \n",
      "\n",
      "**Answer**: MetOp is a series of polar-orbiting meteorological satellites operated by EUMETSAT, the European Organisation for the Exploitation of Meteorological Satellites. The MetOp satellites gather detailed information about atmospheric temperature and moisture profiles, which is crucial for numerical weather prediction and climate monitoring. The mission consists of three satellites, MetOp-A, MetOp-B, and MetOp-C, which are flown successively for more than 14 years each. These satellites provide global coverage and contribute to the global meteorological satellite observing system. \n",
      "\n",
      "-> **Question**: What instruments are on MetOp-A? \n",
      "\n",
      "**Answer**: MetOp-A is a weather satellite, and it does not have any musical instruments on board. It is equipped with various scientific instruments and sensors to collect data related to Earth's atmosphere, weather patterns, and climate. \n",
      "\n"
     ]
    }
   ],
   "source": [
    "questions = [\n",
    "    \"What is MetOp?\",\n",
    "    \"What instruments are on MetOp-A?\"\n",
    "]\n",
    "chat_history = []\n",
    "\n",
    "for question in questions:\n",
    "    result = qa({\"question\": question, \"chat_history\": chat_history})\n",
    "    chat_history.append((question, result[\"answer\"]))\n",
    "    print(f\"-> **Question**: {question} \\n\")\n",
    "    print(f\"**Answer**: {result['answer']} \\n\")"
   ]
  }
 ],
 "metadata": {
  "kernelspec": {
   "display_name": "finetune",
   "language": "python",
   "name": "python3"
  },
  "language_info": {
   "codemirror_mode": {
    "name": "ipython",
    "version": 3
   },
   "file_extension": ".py",
   "mimetype": "text/x-python",
   "name": "python",
   "nbconvert_exporter": "python",
   "pygments_lexer": "ipython3",
   "version": "3.11.7"
  }
 },
 "nbformat": 4,
 "nbformat_minor": 2
}
