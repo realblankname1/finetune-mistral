{
 "cells": [
  {
   "cell_type": "markdown",
   "metadata": {},
   "source": [
    "# Retrieval Augmented Generation for Wikipedia using LangChain"
   ]
  },
  {
   "cell_type": "code",
   "execution_count": 1,
   "metadata": {},
   "outputs": [],
   "source": [
    "import dotenv\n",
    "import os\n",
    "\n",
    "from langchain.retrievers import WikipediaRetriever\n",
    "from langchain.chains import ConversationalRetrievalChain\n",
    "from langchain_openai import ChatOpenAI"
   ]
  },
  {
   "cell_type": "markdown",
   "metadata": {},
   "source": [
    "## Setting up Wikipedia Retriever"
   ]
  },
  {
   "cell_type": "code",
   "execution_count": 2,
   "metadata": {},
   "outputs": [
    {
     "data": {
      "text/plain": [
       "{'title': 'Scatterometer',\n",
       " 'summary': 'A scatterometer or diffusionmeter is a scientific instrument to measure the return of a beam of light or radar waves scattered by diffusion in a medium such as air. Diffusionmeters using visible light are found in airports or along roads to measure horizontal visibility. Radar scatterometers use radio or microwaves to determine the normalized radar cross section (σ0, \"sigma zero\" or \"sigma naught\") of a surface. They are often mounted on weather satellites to find wind speed and direction, and are used in industries to analyze the roughness of surfaces.',\n",
       " 'source': 'https://en.wikipedia.org/wiki/Scatterometer'}"
      ]
     },
     "execution_count": 2,
     "metadata": {},
     "output_type": "execute_result"
    }
   ],
   "source": [
    "retriever = WikipediaRetriever()\n",
    "\n",
    "# Testing retriever \n",
    "docs = retriever.get_relevant_documents(query=\"ASCAT\")\n",
    "docs[1].metadata"
   ]
  },
  {
   "cell_type": "code",
   "execution_count": 3,
   "metadata": {},
   "outputs": [
    {
     "data": {
      "text/plain": [
       "'A scatterometer or diffusionmeter is a scientific instrument to measure the return of a beam of ligh'"
      ]
     },
     "execution_count": 3,
     "metadata": {},
     "output_type": "execute_result"
    }
   ],
   "source": [
    "docs[1].page_content[:100]"
   ]
  },
  {
   "cell_type": "markdown",
   "metadata": {},
   "source": [
    "## Initializing LLM with Retriever"
   ]
  },
  {
   "cell_type": "code",
   "execution_count": 4,
   "metadata": {},
   "outputs": [],
   "source": [
    "os.environ[\"OPENAI_API_KEY\"] = os.getenv(\"OPENAI_API_KEY\")\n",
    "model = ChatOpenAI(model_name=\"gpt-3.5-turbo\")  # switch to 'gpt-4'\n",
    "qa = ConversationalRetrievalChain.from_llm(model, retriever=retriever)"
   ]
  },
  {
   "cell_type": "markdown",
   "metadata": {},
   "source": [
    "### Testing Chain"
   ]
  },
  {
   "cell_type": "code",
   "execution_count": 5,
   "metadata": {},
   "outputs": [
    {
     "name": "stderr",
     "output_type": "stream",
     "text": [
      "c:\\Users\\matth\\anaconda3\\envs\\finetune\\Lib\\site-packages\\langchain_core\\_api\\deprecation.py:117: LangChainDeprecationWarning: The function `__call__` was deprecated in LangChain 0.1.0 and will be removed in 0.2.0. Use invoke instead.\n",
      "  warn_deprecated(\n"
     ]
    },
    {
     "name": "stdout",
     "output_type": "stream",
     "text": [
      "-> **Question**: What is Apify? \n",
      "\n",
      "**Answer**: Apify is a web scraping and automation platform that allows users to extract data from websites, automate workflows, and build applications using web technologies. It provides tools and resources for developers to create, deploy, and scale web scraping and automation projects. \n",
      "\n",
      "-> **Question**: When the Monument to the Martyrs of the 1830 Revolution was created? \n",
      "\n",
      "**Answer**: I don't have that information. \n",
      "\n",
      "-> **Question**: What is the Abhayagiri Vihāra? \n",
      "\n",
      "**Answer**: Abhayagiri Vihāra was a major monastery site located in Anuradhapura, Sri Lanka. It was one of the largest viharas and a significant religious and educational institution in ancient Sri Lanka. The complex consisted of monastic buildings and served as a seat for the Northern Monastery. It was founded in the 2nd century BC and grew into an international institution by the 1st century AD, attracting scholars from various parts of the world. Abhayagiri Vihāra played a crucial role in the development of Buddhism and had a significant influence on other Buddhist monastic sects. \n",
      "\n"
     ]
    }
   ],
   "source": [
    "questions = [\n",
    "    \"What is Apify?\",\n",
    "    \"When the Monument to the Martyrs of the 1830 Revolution was created?\",\n",
    "    \"What is the Abhayagiri Vihāra?\",\n",
    "]\n",
    "chat_history = []\n",
    "\n",
    "for question in questions:\n",
    "    result = qa({\"question\": question, \"chat_history\": chat_history})\n",
    "    chat_history.append((question, result[\"answer\"]))\n",
    "    print(f\"-> **Question**: {question} \\n\")\n",
    "    print(f\"**Answer**: {result['answer']} \\n\")"
   ]
  },
  {
   "cell_type": "markdown",
   "metadata": {},
   "source": [
    "### Testing Chain on Domain Specific Knowledge"
   ]
  },
  {
   "cell_type": "code",
   "execution_count": 6,
   "metadata": {},
   "outputs": [
    {
     "name": "stdout",
     "output_type": "stream",
     "text": [
      "-> **Question**: What is MetOp? \n",
      "\n",
      "**Answer**: MetOp is a series of polar-orbiting weather satellites operated by the European Organisation for the Exploitation of Meteorological Satellites (EUMETSAT). The MetOp satellites are designed to provide more precise details about atmospheric temperature and moisture profiles, as well as other meteorological data. The mission consists of three satellites, MetOp-A, MetOp-B, and MetOp-C, which are flown successively for more than 14 years each. These satellites play a crucial role in numerical weather prediction and climate monitoring. \n",
      "\n",
      "-> **Question**: What instruments are on MetOp-A? \n",
      "\n",
      "**Answer**: The MetOp-A satellite is equipped with several instruments. These include:\n",
      "\n",
      "1. Advanced Scatterometer (ASCAT): Measures wind speed and direction over the oceans.\n",
      "\n",
      "2. Advanced Very High Resolution Radiometer (AVHRR): Provides high-resolution visible and infrared imagery of the Earth's surface.\n",
      "\n",
      "3. Global Ozone Monitoring Experiment (GOME): Measures atmospheric ozone levels and other trace gases.\n",
      "\n",
      "4. High-Resolution Infrared Sounder (HIRS): Measures temperature and humidity profiles in the Earth's atmosphere.\n",
      "\n",
      "5. Microwave Humidity Sounder (MHS): Measures atmospheric humidity levels.\n",
      "\n",
      "6. Advanced Microwave Sounding Unit-A (AMSU-A): Measures temperature profiles in the Earth's atmosphere.\n",
      "\n",
      "7. Space Environment Monitor (SEM): Monitors the space environment, including radiation levels and charged particle flux.\n",
      "\n",
      "These instruments work together to collect data on various atmospheric and environmental parameters, contributing to weather forecasting, climate monitoring, and other Earth observation applications. \n",
      "\n"
     ]
    }
   ],
   "source": [
    "questions = [\n",
    "    \"What is MetOp?\",\n",
    "    \"What instruments are on MetOp-A?\"\n",
    "]\n",
    "chat_history = []\n",
    "\n",
    "for question in questions:\n",
    "    result = qa({\"question\": question, \"chat_history\": chat_history})\n",
    "    chat_history.append((question, result[\"answer\"]))\n",
    "    print(f\"-> **Question**: {question} \\n\")\n",
    "    print(f\"**Answer**: {result['answer']} \\n\")"
   ]
  },
  {
   "cell_type": "markdown",
   "metadata": {},
   "source": [
    "### Testing Chain on Math Questions\n",
    "Wikipedia is filled with good math pages, plus if you write the notation in markdown it can be more easily searchable than using google."
   ]
  },
  {
   "cell_type": "code",
   "execution_count": 9,
   "metadata": {},
   "outputs": [
    {
     "name": "stdout",
     "output_type": "stream",
     "text": [
      "-> **Question**: What is the symbol $\\Sigma$ mean? \n",
      "\n",
      "**Answer**: The symbol $\\Sigma$ represents the mathematical notation for summation. It is derived from the Greek letter sigma. When used in a mathematical expression, the symbol $\\Sigma$ is followed by an expression or equation that specifies the terms to be summed. The symbol is often used to represent the sum of a series of numbers or variables. \n",
      "\n",
      "-> **Question**: What is the formula for Multivariate Normal Function? \n",
      "\n",
      "**Answer**: The formula for the multivariate normal distribution is given by:\n",
      "\n",
      "f(x) = (2π)^(−k/2) * det(Σ)^(-1/2) * exp(-1/2 * (x-μ)' * Σ^(-1) * (x-μ))\n",
      "\n",
      "where:\n",
      "- f(x) is the probability density function of the multivariate normal distribution\n",
      "- k is the dimension of the random vector x\n",
      "- μ is the mean vector of length k\n",
      "- Σ is the covariance matrix of size k x k\n",
      "- det(Σ) is the determinant of the covariance matrix\n",
      "- (x-μ)' denotes the transpose of the vector (x-μ)\n",
      "- Σ^(-1) is the inverse of the covariance matrix\n",
      "\n",
      "Note that the formula assumes that x is a k-dimensional random vector. \n",
      "\n",
      "-> **Question**: What does the symbol $\\mathbb{I(x=0)} mean?$ \n",
      "\n",
      "**Answer**: The symbol $\\mathbb{I(x=0)}$ represents an indicator function. It takes the value 1 if the condition inside the parentheses is true (in this case, if $x=0$), and 0 otherwise. So $\\mathbb{I(x=0)}$ is equal to 1 when $x=0$, and 0 otherwise. \n",
      "\n"
     ]
    }
   ],
   "source": [
    "questions = [\n",
    "    \"What is the symbol $\\Sigma$ mean?\",\n",
    "    \"What is the formula for Multivariate Normal Function?\",\n",
    "    \"What does the symbol $\\mathbb{I(x=0)} mean?$\"\n",
    "]\n",
    "chat_history = []\n",
    "\n",
    "for question in questions:\n",
    "    result = qa({\"question\": question, \"chat_history\": chat_history})\n",
    "    chat_history.append((question, result[\"answer\"]))\n",
    "    print(f\"-> **Question**: {question} \\n\")\n",
    "    print(f\"**Answer**: {result['answer']} \\n\")"
   ]
  }
 ],
 "metadata": {
  "kernelspec": {
   "display_name": "finetune",
   "language": "python",
   "name": "python3"
  },
  "language_info": {
   "codemirror_mode": {
    "name": "ipython",
    "version": 3
   },
   "file_extension": ".py",
   "mimetype": "text/x-python",
   "name": "python",
   "nbconvert_exporter": "python",
   "pygments_lexer": "ipython3",
   "version": "3.11.7"
  }
 },
 "nbformat": 4,
 "nbformat_minor": 2
}
