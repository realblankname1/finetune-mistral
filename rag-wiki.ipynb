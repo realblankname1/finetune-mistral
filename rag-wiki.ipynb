{
 "cells": [
  {
   "cell_type": "markdown",
   "metadata": {},
   "source": [
    "# Retrieval Augmented Generation for Wikipedia using LangChain"
   ]
  },
  {
   "cell_type": "code",
   "execution_count": 2,
   "metadata": {},
   "outputs": [],
   "source": [
    "import dotenv\n",
    "import os\n",
    "\n",
    "from langchain.retrievers import WikipediaRetriever\n",
    "from langchain.chains import ConversationalRetrievalChain\n",
    "from langchain_openai import ChatOpenAI"
   ]
  },
  {
   "cell_type": "markdown",
   "metadata": {},
   "source": [
    "## Setting up Wikipedia Retriever"
   ]
  },
  {
   "cell_type": "code",
   "execution_count": 3,
   "metadata": {},
   "outputs": [
    {
     "data": {
      "text/plain": [
       "{'title': 'Scatterometer',\n",
       " 'summary': 'A scatterometer or diffusionmeter is a scientific instrument to measure the return of a beam of light or radar waves scattered by diffusion in a medium such as air. Diffusionmeters using visible light are found in airports or along roads to measure horizontal visibility. Radar scatterometers use radio or microwaves to determine the normalized radar cross section (σ0, \"sigma zero\" or \"sigma naught\") of a surface. They are often mounted on weather satellites to find wind speed and direction, and are used in industries to analyze the roughness of surfaces.',\n",
       " 'source': 'https://en.wikipedia.org/wiki/Scatterometer'}"
      ]
     },
     "execution_count": 3,
     "metadata": {},
     "output_type": "execute_result"
    }
   ],
   "source": [
    "retriever = WikipediaRetriever()\n",
    "\n",
    "# Testing retriever \n",
    "docs = retriever.get_relevant_documents(query=\"ASCAT\")\n",
    "docs[1].metadata"
   ]
  },
  {
   "cell_type": "code",
   "execution_count": 4,
   "metadata": {},
   "outputs": [
    {
     "data": {
      "text/plain": [
       "'A scatterometer or diffusionmeter is a scientific instrument to measure the return of a beam of ligh'"
      ]
     },
     "execution_count": 4,
     "metadata": {},
     "output_type": "execute_result"
    }
   ],
   "source": [
    "docs[1].page_content[:100]"
   ]
  },
  {
   "cell_type": "markdown",
   "metadata": {},
   "source": [
    "## Initializing LLM with Retriever"
   ]
  },
  {
   "cell_type": "code",
   "execution_count": 5,
   "metadata": {},
   "outputs": [],
   "source": [
    "os.environ[\"OPENAI_API_KEY\"] = os.getenv(\"OPENAI_API_KEY\")\n",
    "model = ChatOpenAI(model_name=\"gpt-3.5-turbo\")  # switch to 'gpt-4'\n",
    "qa = ConversationalRetrievalChain.from_llm(model, retriever=retriever)"
   ]
  },
  {
   "cell_type": "markdown",
   "metadata": {},
   "source": [
    "### Testing Chain"
   ]
  },
  {
   "cell_type": "code",
   "execution_count": 6,
   "metadata": {},
   "outputs": [
    {
     "name": "stderr",
     "output_type": "stream",
     "text": [
      "c:\\Users\\matth\\anaconda3\\envs\\finetune\\Lib\\site-packages\\langchain_core\\_api\\deprecation.py:117: LangChainDeprecationWarning: The function `__call__` was deprecated in LangChain 0.1.0 and will be removed in 0.2.0. Use invoke instead.\n",
      "  warn_deprecated(\n"
     ]
    },
    {
     "name": "stdout",
     "output_type": "stream",
     "text": [
      "-> **Question**: What is Apify? \n",
      "\n",
      "**Answer**: Apify is a web scraping and automation platform. It allows users to extract data from websites, automate workflows, and create custom web scrapers using a simple and intuitive interface. It provides tools and resources for developers to build, run, and scale web scraping tasks, as well as a marketplace for ready-to-use scraping solutions. \n",
      "\n",
      "-> **Question**: When the Monument to the Martyrs of the 1830 Revolution was created? \n",
      "\n",
      "**Answer**: I'm sorry, but I don't have any information about a specific monument called the \"Monument to the Martyrs of the 1830 Revolution.\" It's possible that you may be referring to a different monument or historical event. \n",
      "\n",
      "-> **Question**: What is the Abhayagiri Vihāra? \n",
      "\n",
      "**Answer**: Abhayagiri Vihāra was a major monastery site of Theravada, Mahayana, and Vajrayana Buddhism located in Anuradhapura, Sri Lanka. It was one of the most sacred Buddhist pilgrimage cities in the country and a significant monastic center and royal capital. The term \"Abhayagiri Vihāra\" refers not only to the complex of monastic buildings but also to a fraternity of Buddhist monks. Founded in the 2nd century BC, it grew into an international institution, attracting scholars from distant locations and encompassing all shades of Buddhist philosophy. The complex included the Abhayagiri Dagaba, an ancient stupa, and was a seat of the Northern Monastery and the original custodian of the Tooth relic in the island. \n",
      "\n"
     ]
    }
   ],
   "source": [
    "questions = [\n",
    "    \"What is Apify?\",\n",
    "    \"When the Monument to the Martyrs of the 1830 Revolution was created?\",\n",
    "    \"What is the Abhayagiri Vihāra?\",\n",
    "]\n",
    "chat_history = []\n",
    "\n",
    "for question in questions:\n",
    "    result = qa({\"question\": question, \"chat_history\": chat_history})\n",
    "    chat_history.append((question, result[\"answer\"]))\n",
    "    print(f\"-> **Question**: {question} \\n\")\n",
    "    print(f\"**Answer**: {result['answer']} \\n\")"
   ]
  },
  {
   "cell_type": "markdown",
   "metadata": {},
   "source": [
    "### Testing Chain on Domain Specific Knowledge"
   ]
  },
  {
   "cell_type": "code",
   "execution_count": 7,
   "metadata": {},
   "outputs": [
    {
     "name": "stdout",
     "output_type": "stream",
     "text": [
      "-> **Question**: What is MetOp? \n",
      "\n",
      "**Answer**: MetOp is a satellite mission operated by the European Organisation for the Exploitation of Meteorological Satellites (EUMETSAT). It stands for \"Meteorological Operational.\" The MetOp satellites are polar-orbiting satellites that provide detailed observations of atmospheric temperature and moisture profiles. These observations are crucial for numerical weather prediction and climate monitoring. The MetOp mission consists of a series of three satellites, MetOp-A, MetOp-B, and MetOp-C, which are flown successively for more than 14 years each. These satellites gather essential data for weather forecasting and climate studies. \n",
      "\n",
      "-> **Question**: What instruments are on MetOp-A? \n",
      "\n",
      "**Answer**: The following instruments are flown exclusively on the MetOp-A satellite:\n",
      "\n",
      "- IASI – Infrared Atmospheric Sounding Interferometer\n",
      "- GRAS – Global Navigation Satellite System Receiver for Atmospheric Sounding\n",
      "- ASCAT – Advanced SCATterometer\n",
      "- GOME-2 – Global Ozone Monitoring Experiment-2\n",
      "\n",
      "Additionally, the following instruments are shared on the NPOES satellites, which form the U.S. contribution to the International Joint Polar System (IJPS) and are also carried on the MetOp-A satellite:\n",
      "\n",
      "- AMSU-A1/AMSU-A2 – Advanced Microwave Sounding Units\n",
      "- HIRS/4 – High-resolution Infrared Radiation Sounder\n",
      "- AVHRR/3 – Advanced Very High Resolution Radiometer\n",
      "- Argos A-DCS – Advanced Data Collection System\n",
      "- SEM-2 – Space Environment Monitor\n",
      "- SARP-3 – Search And Rescue Processor\n",
      "- SARR – Search And Rescue Repeater\n",
      "- MHS – Microwave Humidity Sounder \n",
      "\n"
     ]
    }
   ],
   "source": [
    "questions = [\n",
    "    \"What is MetOp?\",\n",
    "    \"What instruments are on MetOp-A?\"\n",
    "]\n",
    "chat_history = []\n",
    "\n",
    "for question in questions:\n",
    "    result = qa({\"question\": question, \"chat_history\": chat_history})\n",
    "    chat_history.append((question, result[\"answer\"]))\n",
    "    print(f\"-> **Question**: {question} \\n\")\n",
    "    print(f\"**Answer**: {result['answer']} \\n\")"
   ]
  },
  {
   "cell_type": "markdown",
   "metadata": {},
   "source": [
    "### Testing Chain on Math Questions\n",
    "Wikipedia is filled with good math pages, plus if you write the notation in markdown it can be more easily searchable than using google."
   ]
  },
  {
   "cell_type": "code",
   "execution_count": 8,
   "metadata": {},
   "outputs": [
    {
     "name": "stdout",
     "output_type": "stream",
     "text": [
      "-> **Question**: What is the symbol $\\Sigma$ mean? \n",
      "\n",
      "**Answer**: The symbol $\\Sigma$ represents the mathematical notation for summation. It is used to indicate that a series of terms should be added together. The uppercase Greek letter Sigma is often used to represent this concept in mathematics and statistics. \n",
      "\n",
      "-> **Question**: What is the formula for Multivariate Normal Function? \n",
      "\n",
      "**Answer**: The multivariate normal distribution is a generalization of the normal distribution to higher dimensions. It is defined by a mean vector μ and a covariance matrix Σ.\n",
      "\n",
      "The probability density function (PDF) of the multivariate normal distribution is given by:\n",
      "\n",
      "f(x) = (1 / (sqrt((2π)^k * det(Σ)))) * exp(-0.5 * (x - μ)^T * Σ^(-1) * (x - μ))\n",
      "\n",
      "where:\n",
      "- f(x) is the PDF of the multivariate normal distribution\n",
      "- x is a k-dimensional vector representing a data point\n",
      "- μ is a k-dimensional vector representing the mean of the distribution\n",
      "- Σ is a k x k covariance matrix representing the variability of the distribution\n",
      "- det(Σ) is the determinant of the covariance matrix\n",
      "- (x - μ)^T is the transpose of the difference between x and μ\n",
      "- Σ^(-1) is the inverse of the covariance matrix\n",
      "\n",
      "Note that the exponent in the formula involves the quadratic form (x - μ)^T * Σ^(-1) * (x - μ), which measures the Mahalanobis distance between x and μ. \n",
      "\n",
      "-> **Question**: What does the symbol $\\mathbb{I(x=0)} mean?$ \n",
      "\n",
      "**Answer**: I don't know what the symbol $\\mathbb{I(x=0)}$ represents. \n",
      "\n"
     ]
    }
   ],
   "source": [
    "questions = [\n",
    "    \"What is the symbol $\\Sigma$ mean?\",\n",
    "    \"What is the formula for Multivariate Normal Function?\",\n",
    "    \"What does the symbol $\\mathbb{I(x=0)} mean?$\"\n",
    "]\n",
    "chat_history = []\n",
    "\n",
    "for question in questions:\n",
    "    result = qa({\"question\": question, \"chat_history\": chat_history})\n",
    "    chat_history.append((question, result[\"answer\"]))\n",
    "    print(f\"-> **Question**: {question} \\n\")\n",
    "    print(f\"**Answer**: {result['answer']} \\n\")"
   ]
  }
 ],
 "metadata": {
  "kernelspec": {
   "display_name": "finetune",
   "language": "python",
   "name": "python3"
  },
  "language_info": {
   "codemirror_mode": {
    "name": "ipython",
    "version": 3
   },
   "file_extension": ".py",
   "mimetype": "text/x-python",
   "name": "python",
   "nbconvert_exporter": "python",
   "pygments_lexer": "ipython3",
   "version": "3.11.7"
  }
 },
 "nbformat": 4,
 "nbformat_minor": 2
}
